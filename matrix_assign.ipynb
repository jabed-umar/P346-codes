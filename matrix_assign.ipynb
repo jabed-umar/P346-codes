{
 "cells": [
  {
   "cell_type": "code",
   "execution_count": 1,
   "metadata": {},
   "outputs": [],
   "source": [
    "import Library.assign3 as a3"
   ]
  },
  {
   "cell_type": "markdown",
   "metadata": {},
   "source": [
    "# 1(a). Gauss_Jordan method to solve linear equation"
   ]
  },
  {
   "cell_type": "code",
   "execution_count": 2,
   "metadata": {},
   "outputs": [
    {
     "name": "stdout",
     "output_type": "stream",
     "text": [
      "The solution of the linear equation is :  [-1.76181704399786, 0.8962280338740123, 4.051931404116157, -1.6171308025395417, 2.041913538501913, 0.15183248715593547]\n"
     ]
    }
   ],
   "source": [
    "#function input\n",
    "b = [19,2,13,-7,-9,2]\n",
    "A = [[1,-1,4,0,2,9],[0,5,-2,7,8,4],[1,0,5,7,3,-2],[6,-1,2,3,0,8],[-4,2,0,5,-5,3],[0,7,-1,5,4,-2],]\n",
    "# calling the function\n",
    "a3.Gauss_Jordan(A,b)  \n",
    "# printing the solution\n",
    "print(\"The solution of the linear equation is : \", b)"
   ]
  },
  {
   "cell_type": "markdown",
   "metadata": {},
   "source": [
    "# 1(b). LU decomposition method to solve linear equation"
   ]
  },
  {
   "cell_type": "code",
   "execution_count": 3,
   "metadata": {},
   "outputs": [
    {
     "name": "stdout",
     "output_type": "stream",
     "text": [
      "The solution of the linear equation is :  [-1.761817043997862, 0.8962280338740133, 4.051931404116158, -1.6171308025395421, 2.041913538501913, 0.15183248715593525]\n"
     ]
    }
   ],
   "source": [
    "#function input\n",
    "b = [19,2,13,-7,-9,2]\n",
    "A = [[1,-1,4,0,2,9], [0,5,-2,7,8,4], [1,0,5,7,3,-2],[6,-1,2,3,0,8],[-4,2,0,5,-5,3],[0,7,-1,5,4,-2],]\n",
    "# calling the function\n",
    "a3.LU_decompose(A,b)  \n",
    "print(\"The solution of the linear equation is : \", b)"
   ]
  },
  {
   "cell_type": "markdown",
   "metadata": {},
   "source": [
    "# 2(a). Solve the linear equation using Cholesky decomposition method"
   ]
  },
  {
   "cell_type": "code",
   "execution_count": 2,
   "metadata": {},
   "outputs": [
    {
     "data": {
      "text/plain": [
       "[[1.0], [1.0], [1.0], [1.0], [1.0001], [1.0]]"
      ]
     },
     "execution_count": 2,
     "metadata": {},
     "output_type": "execute_result"
    }
   ],
   "source": [
    "b = [[2],[1],[2],[2],[1],[2]]\n",
    "A = [ [4, -1, 0, -1, 0, 0], [-1, 4, -1, 0, -1, 0], [0, -1, 4, 0, 0, -1], [-1, 0, 0, 4, -1, 0], [0, -1, 0, -1, 4, -1],[0, 0, -1, 0, -1, 4]]\n",
    "a3.Symmetric(A)\n",
    "a3.cholesky(A,b)"
   ]
  },
  {
   "cell_type": "markdown",
   "metadata": {},
   "source": [
    "# 2(b). Solve the linear equation using Gauss_Seidel method"
   ]
  },
  {
   "cell_type": "code",
   "execution_count": 6,
   "metadata": {},
   "outputs": [
    {
     "data": {
      "text/plain": [
       "<function print>"
      ]
     },
     "execution_count": 6,
     "metadata": {},
     "output_type": "execute_result"
    }
   ],
   "source": [
    "# Solving the linear equation using Guass-seidel method\n",
    "def Gauss_seidel(A,b):\n",
    "    # finding the number of rows\n",
    "    n = len(A)\n",
    "    # finding the solution\n",
    "    m = 1000\n",
    "    c = 0\n",
    "    e = 0.0001\n",
    "    x = [0 for i in range(n)]\n",
    "    for k in range(m):\n",
    "        y = 0\n",
    "        for i in range(n):\n",
    "            sum = 0\n",
    "            for j in range(0,i):\n",
    "                sum += A[i][j]*x[j]\n",
    "            for j in range(i+1,n):\n",
    "                sum += A[i][j]*x[j]\n",
    "            c = (b[i] - sum)/A[i][i]\n",
    "            if abs(c-x[i]) < e:\n",
    "                y+=1\n",
    "            x[i] = c         \n",
    "A =  [[4, 1, -1, 1],[1, 4, -1,-1],[-1, -1, 5, 1],[1, -1, 1, 3]]\n",
    "b = [-2,-1,0,1]\n",
    "Gauss_seidel(A,b)\n",
    "print"
   ]
  },
  {
   "cell_type": "markdown",
   "metadata": {},
   "source": [
    "# 3(a). Solve the linear equation by LU decomposition (without rearranging)"
   ]
  },
  {
   "cell_type": "code",
   "execution_count": 7,
   "metadata": {},
   "outputs": [
    {
     "name": "stdout",
     "output_type": "stream",
     "text": [
      "The solution of the linear equation is :  [2.9791651927838654, 2.2155995755217557, 0.2112840466926055, 0.15231694375663485, 5.715033604527767]\n"
     ]
    }
   ],
   "source": [
    " #function input\n",
    "b = [20,15,92,51,15]\n",
    "A = [[4,0,4,10,1], [0,4,2,0,1], [2,5,1,3,13],[11,3,0,1,2],[3,2,7,1,0],]\n",
    "# calling the function\n",
    "a3.LU_decompose(A,b)  \n",
    "print(\"The solution of the linear equation is : \", b)"
   ]
  },
  {
   "cell_type": "markdown",
   "metadata": {},
   "source": [
    "# 3(b). Solve the linear equation using Gauss-Seidel (with rearranging to make diagonally dominant)"
   ]
  },
  {
   "cell_type": "code",
   "execution_count": null,
   "metadata": {},
   "outputs": [],
   "source": []
  }
 ],
 "metadata": {
  "kernelspec": {
   "display_name": "Python 3.9.13 64-bit (microsoft store)",
   "language": "python",
   "name": "python3"
  },
  "language_info": {
   "codemirror_mode": {
    "name": "ipython",
    "version": 3
   },
   "file_extension": ".py",
   "mimetype": "text/x-python",
   "name": "python",
   "nbconvert_exporter": "python",
   "pygments_lexer": "ipython3",
   "version": "3.9.13"
  },
  "orig_nbformat": 4,
  "vscode": {
   "interpreter": {
    "hash": "822f778737178fe76a6ff500c230e38a1f3004a1451c350514bba9d63e701910"
   }
  }
 },
 "nbformat": 4,
 "nbformat_minor": 2
}
