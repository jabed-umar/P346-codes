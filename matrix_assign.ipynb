{
 "cells": [
  {
   "cell_type": "code",
   "execution_count": 2,
   "metadata": {},
   "outputs": [],
   "source": [
    "import Library.assign3 as a3"
   ]
  },
  {
   "cell_type": "markdown",
   "metadata": {},
   "source": [
    "# 1(a). Gauss_Jordan method to solve linear equation"
   ]
  },
  {
   "cell_type": "code",
   "execution_count": 149,
   "metadata": {},
   "outputs": [
    {
     "name": "stdout",
     "output_type": "stream",
     "text": [
      "The solution of the linear equation is :  [-1.76181704399786, 0.8962280338740123, 4.051931404116157, -1.6171308025395417, 2.041913538501913, 0.15183248715593547]\n"
     ]
    }
   ],
   "source": [
    "#function input\n",
    "b = [19,2,13,-7,-9,2]\n",
    "A = [[1,-1,4,0,2,9],[0,5,-2,7,8,4],[1,0,5,7,3,-2],[6,-1,2,3,0,8],[-4,2,0,5,-5,3],[0,7,-1,5,4,-2],]\n",
    "# calling the function\n",
    "a3.Gauss_Jordan(A,b)  \n",
    "# printing the solution\n",
    "print(\"The solution of the linear equation is : \", b)"
   ]
  },
  {
   "cell_type": "markdown",
   "metadata": {},
   "source": [
    "# 1(b). LU decomposition method to solve linear equation"
   ]
  },
  {
   "cell_type": "code",
   "execution_count": 3,
   "metadata": {},
   "outputs": [
    {
     "name": "stdout",
     "output_type": "stream",
     "text": [
      "The solution of the linear equation is :  [-1.761817043997862, 0.8962280338740133, 4.051931404116158, -1.6171308025395421, 2.041913538501913, 0.15183248715593525]\n"
     ]
    }
   ],
   "source": [
    "#function input\n",
    "b = [19,2,13,-7,-9,2]\n",
    "A = [[1,-1,4,0,2,9], [0,5,-2,7,8,4], [1,0,5,7,3,-2],[6,-1,2,3,0,8],[-4,2,0,5,-5,3],[0,7,-1,5,4,-2],]\n",
    "# calling the function\n",
    "a3.LU_decompose(A,b)  \n",
    "print(\"The solution of the linear equation is : \", b)"
   ]
  },
  {
   "cell_type": "markdown",
   "metadata": {},
   "source": [
    "# 2(a). Solve the linear equation using Cholesky decomposition method"
   ]
  },
  {
   "cell_type": "code",
   "execution_count": 134,
   "metadata": {},
   "outputs": [
    {
     "name": "stdout",
     "output_type": "stream",
     "text": [
      "The solution of the linear equation is :  [1.0916777240317384, 1.1702110185490877, 0.9738292572941704, 1.0568154558217688, 1.1738635747954704, 2]\n"
     ]
    }
   ],
   "source": [
    "# Cholesky decomposition method to solve linear equation\n",
    "def Cholesky(A,b):\n",
    "    # finding the number of rows/columns of the matrix A\n",
    "    n = len(A)\n",
    "    # checking the symmetric condition of the matrix \n",
    "    if Symmetric(A) == True: \n",
    "         for i in range(n):\n",
    "             for j in range(i,n):\n",
    "               if j==i:\n",
    "                sum1 = 0 \n",
    "                for k in range(0,i):\n",
    "                   sum1=sum1+A[k][i]**2\n",
    "                A[j][j]= round((A[j][j]-sum1)**(0.5),4)\n",
    "               else:\n",
    "                 A[j][i]=0\n",
    "                 sum2 = 0\n",
    "                 for k in range(0,i): \n",
    "                   sum2=sum2 +A[k][i]*A[k][j]\n",
    "                 A[i][j]= round((A[i][j]-sum2)/A[i][i],4)    \n",
    "            # print(A)\n",
    "    # forward substitution\n",
    "         for i in range(n):\n",
    "             sum = 0\n",
    "             for j in range(i):\n",
    "                sum += (A[i][j] * b[j])\n",
    "                b[i] = b[i] - sum\n",
    "    # backward substitution\n",
    "         for i in range(n-1,-1,-1):\n",
    "            sum = 0\n",
    "            for j in range(i+1,n):\n",
    "                sum += (A[i][j] * b[j])\n",
    "                b[i] = (b[i] - sum)/A[i][i]\n",
    "    # if the matrix is not symmetric \n",
    "    else:\n",
    "        print(\"The matrix is not symmetric\")\n",
    "    return b\n",
    "# function input\n",
    "b = [2,1,2,2,1,2]\n",
    "A = [[4, -1, 0, -1, 0, 0],[-1, 4, -1, 0, -1, 0],[0, -1, 4, 0, 0, -1],[-1, 0, 0, 4, -1, 0],[0, -1, 0, -1, 4, -1],[0, 0, -1, 0, -1, 4],]\n",
    "# calling the function\n",
    "Cholesky(A,b)\n",
    "# printing the solution\n",
    "print(\"The solution of the linear equation is : \", b)"
   ]
  },
  {
   "cell_type": "markdown",
   "metadata": {},
   "source": [
    "# 2(b). Solve the linear equation using Gauss_Seidel method"
   ]
  },
  {
   "cell_type": "code",
   "execution_count": 131,
   "metadata": {},
   "outputs": [
    {
     "name": "stdout",
     "output_type": "stream",
     "text": [
      "[-2, -1, 0, 1]\n"
     ]
    }
   ],
   "source": [
    "# Solving the linear equation using Guass-seidel method\n",
    "def Gauss_seidel(A,b):\n",
    "    # finding the number of rows\n",
    "    n = len(A)\n",
    "    # finding the solution\n",
    "    m = 1000\n",
    "    c = 0\n",
    "    e = 0.0001\n",
    "    x = [0 for i in range(n)]\n",
    "    for k in range(m):\n",
    "        y = 0\n",
    "        for i in range(n):\n",
    "            sum = 0\n",
    "            for j in range(0,i):\n",
    "                sum += A[i][j]*x[j]\n",
    "            for j in range(i+1,n):\n",
    "                sum += A[i][j]*x[j]\n",
    "            c = (b[i] - sum)/A[i][i]\n",
    "            if abs(c-x[i]) < e:\n",
    "                y+=1\n",
    "            x[i] = c         \n",
    "A =  [[4, 1, -1, 1],[1, 4, -1,-1],[-1, -1, 5, 1],[1, -1, 1, 3]]\n",
    "b = [-2,-1,0,1]\n",
    "Gauss_seidel(A,b)\n",
    "print(b)"
   ]
  },
  {
   "cell_type": "markdown",
   "metadata": {},
   "source": [
    "# 3(a). Solve the linear equation by LU decomposition (without rearranging)"
   ]
  },
  {
   "cell_type": "code",
   "execution_count": 4,
   "metadata": {},
   "outputs": [
    {
     "name": "stdout",
     "output_type": "stream",
     "text": [
      "The solution of the linear equation is :  [2.9791651927838654, 2.2155995755217557, 0.2112840466926055, 0.15231694375663485, 5.715033604527767]\n"
     ]
    }
   ],
   "source": [
    " #function input\n",
    "b = [20,15,92,51,15]\n",
    "A = [[4,0,4,10,1], [0,4,2,0,1], [2,5,1,3,13],[11,3,0,1,2],[3,2,7,1,0],]\n",
    "# calling the function\n",
    "a3.LU_decompose(A,b)  \n",
    "print(\"The solution of the linear equation is : \", b)"
   ]
  },
  {
   "cell_type": "code",
   "execution_count": null,
   "metadata": {},
   "outputs": [],
   "source": [
    "#Function to make tarnspose of matrix\n",
    "def transpose(A):\n",
    "    B=[]\n",
    "    for i in range(len(A)):\n",
    "        B.append([])\n",
    "    for j in range(len(A)):\n",
    "        B[i].append(A[j][i])\n",
    "    return B"
   ]
  },
  {
   "cell_type": "code",
   "execution_count": 138,
   "metadata": {},
   "outputs": [
    {
     "ename": "IndexError",
     "evalue": "list index out of range",
     "output_type": "error",
     "traceback": [
      "\u001b[1;31m---------------------------------------------------------------------------\u001b[0m",
      "\u001b[1;31mIndexError\u001b[0m                                Traceback (most recent call last)",
      "\u001b[1;32mc:\\Users\\PC\\Desktop\\P346\\matrix_assign.ipynb Cell 13\u001b[0m in \u001b[0;36m<cell line: 60>\u001b[1;34m()\u001b[0m\n\u001b[0;32m     <a href='vscode-notebook-cell:/c%3A/Users/PC/Desktop/P346/matrix_assign.ipynb#X52sZmlsZQ%3D%3D?line=57'>58</a>\u001b[0m b \u001b[39m=\u001b[39m [\u001b[39m2\u001b[39m,\u001b[39m1\u001b[39m,\u001b[39m2\u001b[39m,\u001b[39m2\u001b[39m,\u001b[39m1\u001b[39m,\u001b[39m2\u001b[39m]\n\u001b[0;32m     <a href='vscode-notebook-cell:/c%3A/Users/PC/Desktop/P346/matrix_assign.ipynb#X52sZmlsZQ%3D%3D?line=58'>59</a>\u001b[0m A \u001b[39m=\u001b[39m [[\u001b[39m4\u001b[39m, \u001b[39m-\u001b[39m\u001b[39m1\u001b[39m, \u001b[39m0\u001b[39m, \u001b[39m-\u001b[39m\u001b[39m1\u001b[39m, \u001b[39m0\u001b[39m, \u001b[39m0\u001b[39m],[\u001b[39m-\u001b[39m\u001b[39m1\u001b[39m, \u001b[39m4\u001b[39m, \u001b[39m-\u001b[39m\u001b[39m1\u001b[39m, \u001b[39m0\u001b[39m, \u001b[39m-\u001b[39m\u001b[39m1\u001b[39m, \u001b[39m0\u001b[39m],[\u001b[39m0\u001b[39m, \u001b[39m-\u001b[39m\u001b[39m1\u001b[39m, \u001b[39m4\u001b[39m, \u001b[39m0\u001b[39m, \u001b[39m0\u001b[39m, \u001b[39m-\u001b[39m\u001b[39m1\u001b[39m],[\u001b[39m-\u001b[39m\u001b[39m1\u001b[39m, \u001b[39m0\u001b[39m, \u001b[39m0\u001b[39m, \u001b[39m4\u001b[39m, \u001b[39m-\u001b[39m\u001b[39m1\u001b[39m, \u001b[39m0\u001b[39m],[\u001b[39m0\u001b[39m, \u001b[39m-\u001b[39m\u001b[39m1\u001b[39m, \u001b[39m0\u001b[39m, \u001b[39m-\u001b[39m\u001b[39m1\u001b[39m, \u001b[39m4\u001b[39m, \u001b[39m-\u001b[39m\u001b[39m1\u001b[39m],[\u001b[39m0\u001b[39m, \u001b[39m0\u001b[39m, \u001b[39m-\u001b[39m\u001b[39m1\u001b[39m, \u001b[39m0\u001b[39m, \u001b[39m-\u001b[39m\u001b[39m1\u001b[39m, \u001b[39m4\u001b[39m],]\n\u001b[1;32m---> <a href='vscode-notebook-cell:/c%3A/Users/PC/Desktop/P346/matrix_assign.ipynb#X52sZmlsZQ%3D%3D?line=59'>60</a>\u001b[0m chelk(A,b)\n",
      "\u001b[1;32mc:\\Users\\PC\\Desktop\\P346\\matrix_assign.ipynb Cell 13\u001b[0m in \u001b[0;36mchelk\u001b[1;34m(A, B)\u001b[0m\n\u001b[0;32m     <a href='vscode-notebook-cell:/c%3A/Users/PC/Desktop/P346/matrix_assign.ipynb#X52sZmlsZQ%3D%3D?line=37'>38</a>\u001b[0m   \u001b[39mfor\u001b[39;00m k \u001b[39min\u001b[39;00m \u001b[39mrange\u001b[39m(i):\n\u001b[0;32m     <a href='vscode-notebook-cell:/c%3A/Users/PC/Desktop/P346/matrix_assign.ipynb#X52sZmlsZQ%3D%3D?line=38'>39</a>\u001b[0m     \u001b[39msum\u001b[39m\u001b[39m=\u001b[39m\u001b[39msum\u001b[39m\u001b[39m+\u001b[39mB[k]\u001b[39m*\u001b[39mA[i][k]\n\u001b[1;32m---> <a href='vscode-notebook-cell:/c%3A/Users/PC/Desktop/P346/matrix_assign.ipynb#X52sZmlsZQ%3D%3D?line=40'>41</a>\u001b[0m   B[i]\u001b[39m=\u001b[39m\u001b[39mround\u001b[39m((B[i]\u001b[39m-\u001b[39m\u001b[39msum\u001b[39m)\u001b[39m/\u001b[39mA[i][i],\u001b[39m4\u001b[39m)\n\u001b[0;32m     <a href='vscode-notebook-cell:/c%3A/Users/PC/Desktop/P346/matrix_assign.ipynb#X52sZmlsZQ%3D%3D?line=41'>42</a>\u001b[0m   \u001b[39msum\u001b[39m\u001b[39m=\u001b[39m\u001b[39m0\u001b[39m\n\u001b[0;32m     <a href='vscode-notebook-cell:/c%3A/Users/PC/Desktop/P346/matrix_assign.ipynb#X52sZmlsZQ%3D%3D?line=44'>45</a>\u001b[0m \u001b[39m#Backward Substitution\u001b[39;00m\n",
      "\u001b[1;31mIndexError\u001b[0m: list index out of range"
     ]
    }
   ],
   "source": [
    "#solve a system of linear equation using cholesky decompose method\n",
    "#Chelosky Decomposition function\n",
    "def Dec(A):\n",
    " n=len(A)\n",
    " sum=0\n",
    " for i in range(n):\n",
    "  for j in range(i,n):\n",
    "    \n",
    "   if j==i:\n",
    "    for k in range(0,i):\n",
    "     sum=sum+A[k][i]**2\n",
    "    A[j][j]= round((A[j][j]-sum)**(0.5),4)\n",
    "    \n",
    "   else:\n",
    "    A[j][i]=0\n",
    "    for k in range(0,i): \n",
    "     sum=sum+A[k][i]*A[k][j]\n",
    "    A[i][j]= round((A[i][j]-sum)/A[i][i],4)\n",
    "        \n",
    "   sum=0\n",
    " \n",
    " return A \n",
    "\n",
    "\n",
    "#Function for solving linear equations using Chelosky Decomposition     \n",
    "def chelk(A,B):\n",
    "  if Symmetric(A) == False:\n",
    "    print(\"Matrix is not symmetric\")\n",
    "    return 0\n",
    "  \n",
    "  #Forward Substitution\n",
    "  sum=0\n",
    "  A=transpose(Dec(A))\n",
    "  n=len(A)\n",
    "  \n",
    "  \n",
    "  for i in range(n):\n",
    "    for k in range(i):\n",
    "      sum=sum+B[k]*A[i][k]\n",
    "    \n",
    "    B[i]=round((B[i]-sum)/A[i][i],4)\n",
    "    sum=0\n",
    "  \n",
    "  \n",
    "  #Backward Substitution\n",
    "  A=transpose(A) \n",
    "  \n",
    "  for i in range(n-1,-1,-1):\n",
    "    for k in range(i+1,n):\n",
    "        sum=sum+B[k]*A[i][k]\n",
    "    \n",
    "    B[i]=round((B[i]-sum)/A[i][i],4)\n",
    "    sum=0\n",
    "  \n",
    "  print(\"\\n\")\n",
    "  for line in B:\n",
    "   print ('  '.join(map(str, line)))\n",
    "b = [2,1,2,2,1,2]\n",
    "A = [[4, -1, 0, -1, 0, 0],[-1, 4, -1, 0, -1, 0],[0, -1, 4, 0, 0, -1],[-1, 0, 0, 4, -1, 0],[0, -1, 0, -1, 4, -1],[0, 0, -1, 0, -1, 4],]\n",
    "chelk(A,b)  "
   ]
  },
  {
   "cell_type": "markdown",
   "metadata": {},
   "source": [
    "# 3(b). Solve the linear equation using Gauss-Seidel (with rearranging to make diagonally dominant)"
   ]
  },
  {
   "cell_type": "code",
   "execution_count": null,
   "metadata": {},
   "outputs": [],
   "source": []
  }
 ],
 "metadata": {
  "kernelspec": {
   "display_name": "Python 3.9.13 64-bit (microsoft store)",
   "language": "python",
   "name": "python3"
  },
  "language_info": {
   "codemirror_mode": {
    "name": "ipython",
    "version": 3
   },
   "file_extension": ".py",
   "mimetype": "text/x-python",
   "name": "python",
   "nbconvert_exporter": "python",
   "pygments_lexer": "ipython3",
   "version": "3.9.13"
  },
  "orig_nbformat": 4,
  "vscode": {
   "interpreter": {
    "hash": "822f778737178fe76a6ff500c230e38a1f3004a1451c350514bba9d63e701910"
   }
  }
 },
 "nbformat": 4,
 "nbformat_minor": 2
}
