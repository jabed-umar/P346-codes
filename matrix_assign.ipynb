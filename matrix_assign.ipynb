{
 "cells": [
  {
   "cell_type": "code",
   "execution_count": 1,
   "metadata": {},
   "outputs": [],
   "source": [
    "import Library.assign3 as a3"
   ]
  },
  {
   "cell_type": "markdown",
   "metadata": {},
   "source": [
    "# 1(a). Gauss_Jordan method to solve linear equation"
   ]
  },
  {
   "cell_type": "code",
   "execution_count": 4,
   "metadata": {},
   "outputs": [
    {
     "name": "stdout",
     "output_type": "stream",
     "text": [
      "The solution of the linear equation is :  [-1.76181704399786, 0.8962280338740123, 4.051931404116157, -1.6171308025395417, 2.041913538501913, 0.15183248715593547]\n"
     ]
    }
   ],
   "source": [
    "#function input\n",
    "b = [19,2,13,-7,-9,2]\n",
    "A = [[1,-1,4,0,2,9],[0,5,-2,7,8,4],[1,0,5,7,3,-2],[6,-1,2,3,0,8],[-4,2,0,5,-5,3],[0,7,-1,5,4,-2],]\n",
    "# calling the function\n",
    "a3.Gauss_Jordan(A,b)  \n",
    "# printing the solution\n",
    "print(\"The solution of the linear equation is : \", b)"
   ]
  },
  {
   "cell_type": "markdown",
   "metadata": {},
   "source": [
    "# 1(b). LU decomposition method to solve linear equation"
   ]
  },
  {
   "cell_type": "code",
   "execution_count": 5,
   "metadata": {},
   "outputs": [
    {
     "name": "stdout",
     "output_type": "stream",
     "text": [
      "The solution of the linear equation is :  [-1.761817043997862, 0.8962280338740133, 4.051931404116158, -1.6171308025395421, 2.041913538501913, 0.15183248715593525]\n"
     ]
    }
   ],
   "source": [
    "#function input\n",
    "b = [19,2,13,-7,-9,2]\n",
    "A = [[1,-1,4,0,2,9], [0,5,-2,7,8,4], [1,0,5,7,3,-2],[6,-1,2,3,0,8],[-4,2,0,5,-5,3],[0,7,-1,5,4,-2],]\n",
    "# calling the function\n",
    "a3.LU_decompose(A,b)  \n",
    "print(\"The solution of the linear equation is : \", b)"
   ]
  },
  {
   "cell_type": "markdown",
   "metadata": {},
   "source": [
    "# 2(a). Solve the linear equation using Cholesky decomposition method"
   ]
  },
  {
   "cell_type": "code",
   "execution_count": 6,
   "metadata": {},
   "outputs": [
    {
     "data": {
      "text/plain": [
       "[[1.0], [1.0], [1.0], [1.0], [1.0001], [1.0]]"
      ]
     },
     "execution_count": 6,
     "metadata": {},
     "output_type": "execute_result"
    }
   ],
   "source": [
    "# function input\n",
    "b = [[2],[1],[2],[2],[1],[2]]\n",
    "A = [ [4, -1, 0, -1, 0, 0], [-1, 4, -1, 0, -1, 0], [0, -1, 4, 0, 0, -1], [-1, 0, 0, 4, -1, 0], [0, -1, 0, -1, 4, -1],[0, 0, -1, 0, -1, 4]]\n",
    "# calling the function from library file\n",
    "a3.Symmetric(A)\n",
    "a3.cholesky(A,b)"
   ]
  },
  {
   "cell_type": "markdown",
   "metadata": {},
   "source": [
    "# 2(b). Solve the linear equation using Gauss_Seidel method with precision $10^-{6}$"
   ]
  },
  {
   "cell_type": "code",
   "execution_count": 2,
   "metadata": {},
   "outputs": [
    {
     "name": "stdout",
     "output_type": "stream",
     "text": [
      "Number of iterations: 16 \n",
      "Solution matrix X:\n",
      "\n",
      "[[0.9999997530614102], [0.9999997892247294], [0.9999999100460266], [0.9999998509593768], [0.9999998727858708], [0.9999999457079743]]\n"
     ]
    }
   ],
   "source": [
    "# function input\n",
    "b = [[2],[1],[2],[2],[1],[2]]\n",
    "A = [ [4, -1, 0, -1, 0, 0], [-1, 4, -1, 0, -1, 0], [0, -1, 4, 0, 0, -1], [-1, 0, 0, 4, -1, 0], [0, -1, 0, -1, 4, -1],[0, 0, -1, 0, -1, 4]]\n",
    "# calling the function from library file\n",
    "a3.Gauss_seidel(A,b,6)"
   ]
  },
  {
   "cell_type": "markdown",
   "metadata": {},
   "source": [
    "# 3(a). Solve the linear equation by LU decomposition (without rearranging)"
   ]
  },
  {
   "cell_type": "code",
   "execution_count": 12,
   "metadata": {},
   "outputs": [
    {
     "name": "stdout",
     "output_type": "stream",
     "text": [
      "The solution of the linear equation is :  [2.9791651927838707, 2.215599575521754, 0.21128404669260714, 0.15231694375663274, 5.715033604527767]\n"
     ]
    }
   ],
   "source": [
    " #function input\n",
    "b = [20,15,92,51,15]\n",
    "A = [[4,0,4,10,1], [0,4,2,0,1], [2,5,1,3,13],[11,3,0,1,2],[3,2,7,1,0],]\n",
    "# calling the function\n",
    "a3.LU_decompose(A,b)  \n",
    "print(\"The solution of the linear equation is : \", b)"
   ]
  },
  {
   "cell_type": "markdown",
   "metadata": {},
   "source": [
    "# 3(b). Solve the linear equation using Gauss-Seidel (with rearranging to make diagonally dominant)"
   ]
  },
  {
   "cell_type": "code",
   "execution_count": 2,
   "metadata": {},
   "outputs": [
    {
     "name": "stdout",
     "output_type": "stream",
     "text": [
      "Number of iterations: 50000 \n",
      "Solution matrix X:\n",
      "\n",
      "[[0.15231640618263392], [2.215599062283993], [5.715033054639201], [2.979164813540835], [0.21128353989331572]]\n",
      "Number of iterations: 13 \n",
      "Solution matrix X:\n",
      "\n",
      "[[0.152317043317764], [2.215599661524039], [5.715033573535942], [2.9791651659125673], [0.21128401941377944]]\n"
     ]
    }
   ],
   "source": [
    "# function input\n",
    "b = [[20],[15],[92],[51],[15]]\n",
    "A = [[4,0,4,10,1], [0,4,2,0,1], [2,5,1,3,13],[11,3,0,1,2],[3,2,7,1,0],]\n",
    "# calling the function from library file\n",
    "a3.Jacobi(A,b,6)\n",
    "a3.Gauss_Seidel(A,b,6)"
   ]
  }
 ],
 "metadata": {
  "kernelspec": {
   "display_name": "Python 3.9.13 64-bit (microsoft store)",
   "language": "python",
   "name": "python3"
  },
  "language_info": {
   "codemirror_mode": {
    "name": "ipython",
    "version": 3
   },
   "file_extension": ".py",
   "mimetype": "text/x-python",
   "name": "python",
   "nbconvert_exporter": "python",
   "pygments_lexer": "ipython3",
   "version": "3.9.13"
  },
  "orig_nbformat": 4,
  "vscode": {
   "interpreter": {
    "hash": "822f778737178fe76a6ff500c230e38a1f3004a1451c350514bba9d63e701910"
   }
  }
 },
 "nbformat": 4,
 "nbformat_minor": 2
}
