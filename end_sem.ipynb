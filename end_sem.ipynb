{
 "cells": [
  {
   "cell_type": "code",
   "execution_count": 1,
   "metadata": {},
   "outputs": [],
   "source": [
    "import math\n",
    "import matplotlib.pyplot as plt\n",
    "import Library.end_end as e"
   ]
  },
  {
   "cell_type": "markdown",
   "metadata": {},
   "source": [
    "# 6. Find the dominant eigen value and eigen vector of the matrix"
   ]
  },
  {
   "cell_type": "code",
   "execution_count": 2,
   "metadata": {},
   "outputs": [
    {
     "name": "stdout",
     "output_type": "stream",
     "text": [
      "The normalised eigen vector and the eigen value is  ([[-0.19841693828127313], [0.6940687096178141], [0.6920255373085772], [2.5403210838495812e-05]], 7.9954229472778735)\n"
     ]
    }
   ],
   "source": [
    "# given matrix\n",
    "A = [[1, -2, 0, 5], [0, 7, 1, 5], [0,4, 4, 0],[0,0,0,2]]\n",
    "# guess vector\n",
    "x_o = [[1],[1],[1],[1]]\n",
    "# calling the function\n",
    "print(\"The normalised eigen vector and the eigen value is \", e.powr_iter(A,x_o,0.001))"
   ]
  },
  {
   "cell_type": "markdown",
   "metadata": {},
   "source": [
    "# 3. Solve F(x) = 2.5 - x*exp(x) by Newton's method"
   ]
  },
  {
   "cell_type": "code",
   "execution_count": 3,
   "metadata": {},
   "outputs": [
    {
     "name": "stdout",
     "output_type": "stream",
     "text": [
      "The spring could stretch upto the distance  0.9585863567288397 m\n"
     ]
    }
   ],
   "source": [
    "# define the function \n",
    "def f(x):\n",
    "    return 2.5-x*math.exp(x)\n",
    "# calling the function\n",
    "k = e.newton_raphson(f, lambda x: -math.exp(x)-x*math.exp(x), 0.5)\n",
    "print(\"The spring could stretch upto the distance \",k ,\"m\")"
   ]
  },
  {
   "cell_type": "markdown",
   "metadata": {},
   "source": [
    "# 4. Solve the given integral by simpson's rule "
   ]
  },
  {
   "cell_type": "code",
   "execution_count": 4,
   "metadata": {},
   "outputs": [
    {
     "name": "stdout",
     "output_type": "stream",
     "text": [
      "The time period of the pendulum is  2.0873200168941946 s\n"
     ]
    }
   ],
   "source": [
    "# define the time period function\n",
    "def time_period(x):\n",
    "    return 1/math.sqrt(1-math.sin(math.pi/8)**2*math.sin(x)**2)\n",
    "# calling the function\n",
    "m = e.simpson(time_period,0,math.pi/2,10,0)\n",
    "n = 4*math.sqrt(1/9.8)*m\n",
    "# print(m)\n",
    "print(\"The time period of the pendulum is \",n ,\"s\")"
   ]
  },
  {
   "cell_type": "markdown",
   "metadata": {},
   "source": [
    "# 7. Fit the given dataset "
   ]
  },
  {
   "cell_type": "code",
   "execution_count": 5,
   "metadata": {},
   "outputs": [],
   "source": [
    "# read the data from the file assign4fit.txt \n",
    "filename = \"esem4fit.txt\"\n",
    "with open(filename) as f:\n",
    "    x, y = [], []\n",
    "    points = f.readlines()\n",
    "    for point in points:\n",
    "        xs, ys = point.split()\n",
    "        x.append(float(xs))\n",
    "        y.append(float(ys))\n",
    "\n",
    "x1 = x\n",
    "y1 = y\n",
    "# print the data set \n",
    "# print(x1)\n",
    "# print(y1)"
   ]
  },
  {
   "cell_type": "code",
   "execution_count": 6,
   "metadata": {},
   "outputs": [
    {
     "name": "stdout",
     "output_type": "stream",
     "text": [
      "The co-efficient of the polynomial is [0.254629507211548, -1.1937592138092277, -0.45725541238296813, -0.8025653910658186, 0.013239427477396298]\n",
      "The polynomial is 0.254629507211548 + -1.1937592138092277 x -0.45725541238296813 x^2 + -0.8025653910658186 x^3 + 0.013239427477396298 x^4\n"
     ]
    },
    {
     "data": {
      "image/png": "[encoded data removed]",
      "text/plain": [
       "<Figure size 432x288 with 1 Axes>"
      ]
     },
     "metadata": {
      "needs_background": "light"
     },
     "output_type": "display_data"
    }
   ],
   "source": [
    "# calling the function from the library for least square fit\n",
    "print(\"The co-efficient of the polynomial is\", e.least_square_method(x1,y1,4))\n",
    "k = e.least_square_method(x1,y1, 4)\n",
    "print(\"The polynomial is\", k[0],\"+\",k[1],\"x\",k[2],\"x^2 +\",k[3],\"x^3 +\" , k[4],\"x^4\")\n",
    "# function for plotting the graph    \n",
    "def plot(x):\n",
    "    y = []\n",
    "    n = len(x)\n",
    "    m = 0\n",
    "    for i in range(n):\n",
    "        m = [k[0]+k[1]*x[i]+k[2]*x[i]**2+k[3]*x[i]**3+k[4]*x[i]**4]\n",
    "        y.append(m)\n",
    "    return y\n",
    "plt.title(\"Plot of the given Data set\")\n",
    "plt.plot(x1,plot(x1))\n",
    "plt.plot(x1,y1,'o')\n",
    "plt.xlabel('x')\n",
    "plt.ylabel('y')\n",
    "plt.show()"
   ]
  },
  {
   "cell_type": "markdown",
   "metadata": {},
   "source": [
    "# 5. Solve the differential equation by Rk- 4"
   ]
  },
  {
   "cell_type": "code",
   "execution_count": 7,
   "metadata": {},
   "outputs": [
    {
     "data": {
      "image/png": "[encoded data removed]",
      "text/plain": [
       "<Figure size 432x288 with 1 Axes>"
      ]
     },
     "metadata": {
      "needs_background": "light"
     },
     "output_type": "display_data"
    }
   ],
   "source": [
    "# define the function \n",
    "def f(y,v):\n",
    "    return -0.02-10/v\n",
    "# calling the function \n",
    "height,v = e.range_kutta_fourth(f,0,10,0.1,50)\n",
    "# ploting the graph\n",
    "plt.scatter(height,v)\n",
    "plt.plot(height,v)\n",
    "plt.xlabel('height')\n",
    "plt.ylabel('velocity')\n",
    "plt.grid()\n",
    "plt.show()\n"
   ]
  },
  {
   "cell_type": "markdown",
   "metadata": {},
   "source": [
    "# "
   ]
  },
  {
   "cell_type": "markdown",
   "metadata": {},
   "source": [
    "# 1. Calculate inverse using the LU decomposition "
   ]
  },
  {
   "cell_type": "code",
   "execution_count": 8,
   "metadata": {},
   "outputs": [
    {
     "name": "stdout",
     "output_type": "stream",
     "text": [
      "The inverse of the matrix exists:  True\n",
      "The inverse of the matrix is: \n",
      " [[-0.708, 2.531, 2.431, 0.967, -3.902], [-0.193, 0.31, 0.279, 0.058, -0.294], [0.022, 0.365, 0.286, 0.051, -0.29], [0.273, -0.13, 0.132, -0.141, 0.449], [0.782, -2.875, -2.679, -0.701, 4.234]]\n"
     ]
    }
   ],
   "source": [
    "# given matrix \n",
    "A = [[0.2, -5, 3, 0.4, 0],\n",
    "     [-0.5, 1, 7,-2,0.3], \n",
    "     [0.6, 2, -4, 3, 0.1],\n",
    "     [3, 0.8, 2, -0.4, 3], \n",
    "     [0.5, 3, 2, 0.4, 1]]\n",
    "print(\"The inverse of the matrix exists: \",e.check_inverse(A))\n",
    "print(\"The inverse of the matrix is: \\n\",e.matrix_inverse(A))"
   ]
  },
  {
   "cell_type": "markdown",
   "metadata": {},
   "source": [
    "# 2. Equilibrium problem "
   ]
  },
  {
   "cell_type": "code",
   "execution_count": 9,
   "metadata": {},
   "outputs": [
    {
     "data": {
      "image/png": "[encoded data removed]",
      "text/plain": [
       "<Figure size 432x288 with 1 Axes>"
      ]
     },
     "metadata": {
      "needs_background": "light"
     },
     "output_type": "display_data"
    }
   ],
   "source": [
    "# given condition \n",
    "N0 = 5000\n",
    "nl = 5000\n",
    "nr = 0\n",
    "Nl = [5000]\n",
    "Nr = [0]\n",
    "# creating the random number in the range of 0 to 1\n",
    "rand = e.My_random(3,17000,0)\n",
    "# main loop for equilrium \n",
    "for t in range(17000):\n",
    "    if rand[t] <= nl/N0:\n",
    "        nl -= 1\n",
    "        nr += 1    \n",
    "    if rand[t] <= 1-nl/N0:\n",
    "        nl += 1\n",
    "        nr -= 1\n",
    "    Nl.append(nl)\n",
    "    Nr.append(nr)\n",
    "# ploting the graph   \n",
    "plt.plot(Nl,color='r',label='No. of particles on left side')\n",
    "plt.plot(Nr,color='g',label='No. of particles on right side')\n",
    "plt.ylabel('No of particles')\n",
    "plt.xlabel('Time (in seconds)')\n",
    "plt.legend()\n",
    "plt.grid()\n",
    "plt.show()"
   ]
  }
 ],
 "metadata": {
  "kernelspec": {
   "display_name": "Python 3.9.13 64-bit (microsoft store)",
   "language": "python",
   "name": "python3"
  },
  "language_info": {
   "codemirror_mode": {
    "name": "ipython",
    "version": 3
   },
   "file_extension": ".py",
   "mimetype": "text/x-python",
   "name": "python",
   "nbconvert_exporter": "python",
   "pygments_lexer": "ipython3",
   "version": "3.9.13"
  },
  "orig_nbformat": 4,
  "vscode": {
   "interpreter": {
    "hash": "8e284ee3255a07ad8bf76694974743c4c81cb57e7c969474d752d949b11d721e"
   }
  }
 },
 "nbformat": 4,
 "nbformat_minor": 2
}
