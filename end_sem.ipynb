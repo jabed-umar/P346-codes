{
 "cells": [
  {
   "cell_type": "code",
   "execution_count": 1,
   "metadata": {},
   "outputs": [],
   "source": [
    "import math\n",
    "import matplotlib.pyplot as plt\n",
    "import Library.end_library as l\n",
    "import Library.end_end as e"
   ]
  },
  {
   "cell_type": "markdown",
   "metadata": {},
   "source": [
    "# 6. Find the dominant eigen value and eigen vector of the matrix"
   ]
  },
  {
   "cell_type": "code",
   "execution_count": 2,
   "metadata": {},
   "outputs": [
    {
     "name": "stdout",
     "output_type": "stream",
     "text": [
      "The normalised eigen vector and the eigen value is  ([[-0.19841693828127313], [0.6940687096178141], [0.6920255373085772], [2.5403210838495812e-05]], 7.9954229472778735)\n"
     ]
    }
   ],
   "source": [
    "# given matrix\n",
    "A = [[1, -2, 0, 5], [0, 7, 1, 5], [0,4, 4, 0],[0,0,0,2]]\n",
    "# guess vector\n",
    "x_o = [[1],[1],[1],[1]]\n",
    "# calling the function\n",
    "print(\"The normalised eigen vector and the eigen value is \", e.powr_iter(A,x_o,0.001))"
   ]
  },
  {
   "cell_type": "markdown",
   "metadata": {},
   "source": [
    "# 3. Solve F(x) = 2.5 - x*exp(x) by Newton's method"
   ]
  },
  {
   "cell_type": "code",
   "execution_count": 3,
   "metadata": {},
   "outputs": [
    {
     "name": "stdout",
     "output_type": "stream",
     "text": [
      "The spring could stretch upto the distance  0.9585863567288397 m\n"
     ]
    }
   ],
   "source": [
    "# define the function \n",
    "def f(x):\n",
    "    return 2.5-x*math.exp(x)\n",
    "# calling the function\n",
    "k = e.newton_raphson(f, lambda x: -math.exp(x)-x*math.exp(x), 0.5)\n",
    "print(\"The spring could stretch upto the distance \",k ,\"m\")"
   ]
  },
  {
   "cell_type": "markdown",
   "metadata": {},
   "source": [
    "# 4. Solve the given integral by simpson's rule "
   ]
  },
  {
   "cell_type": "code",
   "execution_count": 4,
   "metadata": {},
   "outputs": [
    {
     "name": "stdout",
     "output_type": "stream",
     "text": [
      "The time period of the pendulum is  2.0873200168941946 s\n"
     ]
    }
   ],
   "source": [
    "# define the time period function\n",
    "def time_period(x):\n",
    "    return 1/math.sqrt(1-math.sin(math.pi/8)**2*math.sin(x)**2)\n",
    "# calling the function\n",
    "m = e.simpson(time_period,0,math.pi/2,10,0)\n",
    "n = 4*math.sqrt(1/9.8)*m\n",
    "# print(m)\n",
    "print(\"The time period of the pendulum is \",n ,\"s\")"
   ]
  },
  {
   "cell_type": "markdown",
   "metadata": {},
   "source": [
    "# 7. Fit the given dataset "
   ]
  },
  {
   "cell_type": "code",
   "execution_count": 5,
   "metadata": {},
   "outputs": [
    {
     "data": {
      "image/png": "[encoded data removed]",
      "text/plain": [
       "<Figure size 432x288 with 1 Axes>"
      ]
     },
     "metadata": {
      "needs_background": "light"
     },
     "output_type": "display_data"
    }
   ],
   "source": [
    "# read the data from the file assign4fit.txt \n",
    "filename = \"esem4fit.txt\"\n",
    "with open(filename) as f:\n",
    "    x, y = [], []\n",
    "    points = f.readlines()\n",
    "    for point in points:\n",
    "        xs, ys = point.split()\n",
    "        x.append(float(xs))\n",
    "        y.append(float(ys))\n",
    "\n",
    "x1 = x\n",
    "y1 = y\n",
    "# print the data set \n",
    "plt.plot(x1,y1,'o')\n",
    "plt.xlabel('x')\n",
    "plt.ylabel('y')\n",
    "plt.show()\n",
    "# print(x1)\n",
    "# print(y1)"
   ]
  },
  {
   "cell_type": "code",
   "execution_count": 6,
   "metadata": {},
   "outputs": [
    {
     "name": "stdout",
     "output_type": "stream",
     "text": [
      "The co-efficient of the polynomial is [0.254629507211548, -1.1937592138092277, -0.45725541238296813, -0.8025653910658186, 0.013239427477396298]\n",
      "The polynomial is 0.254629507211548 + -1.1937592138092277 x -0.45725541238296813 x^2 + -0.8025653910658186 x^3 + 0.013239427477396298 x^4\n"
     ]
    }
   ],
   "source": [
    "# calling the function from the library for least square fit\n",
    "print(\"The co-efficient of the polynomial is\", e.least_square_method(x1,y1,4))\n",
    "k = e.least_square_method(x1,y1, 4)\n",
    "print(\"The polynomial is\", k[0],\"+\",k[1],\"x\",k[2],\"x^2 +\",k[3],\"x^3 +\" , k[4],\"x^4\")\n"
   ]
  },
  {
   "cell_type": "markdown",
   "metadata": {},
   "source": [
    "# 5. Solve the differential equation by Rk- 4"
   ]
  },
  {
   "cell_type": "code",
   "execution_count": 7,
   "metadata": {},
   "outputs": [
    {
     "data": {
      "image/png": "[encoded data removed]",
      "text/plain": [
       "<Figure size 432x288 with 1 Axes>"
      ]
     },
     "metadata": {
      "needs_background": "light"
     },
     "output_type": "display_data"
    }
   ],
   "source": [
    "# given condition \n",
    "g = 10\n",
    "gamma = 0.02\n",
    "# define the function \n",
    "\n",
    "def f(y,v):\n",
    "    return -gamma-g/v\n",
    "# calling the function \n",
    "height,v = e.range_kutta_fourth(f,0,10,0.5,10)\n",
    "# ploting the graph\n",
    "plt.scatter(height,v)\n",
    "plt.plot(height,v)\n",
    "plt.xlabel('height')\n",
    "plt.ylabel('velocity')\n",
    "plt.show()\n"
   ]
  },
  {
   "cell_type": "markdown",
   "metadata": {},
   "source": [
    "# "
   ]
  },
  {
   "cell_type": "markdown",
   "metadata": {},
   "source": [
    "# 1. Calculate inverse using the LU decomposition "
   ]
  },
  {
   "cell_type": "code",
   "execution_count": 8,
   "metadata": {},
   "outputs": [
    {
     "name": "stdout",
     "output_type": "stream",
     "text": [
      "The determinant of the matrix is 68.71680000000005\n",
      "The inverse of the matrix is [[1.0, 0.0, 0.0, 0.0, 0.0], [0.0, 1.0, -0.0, -0.0, -0.0], [0.0, -0.0, 1.0, -0.0, -0.0], [0.0, -0.0, -0.0, 1.0, -0.0], [0.0, -0.0, -0.0, -0.0, 1.0]]\n"
     ]
    }
   ],
   "source": [
    "A = [[0.2, -5, 3, 0.4, 0],\n",
    "     [-0.5, 1, 7,-2,0.3], \n",
    "     [0.6, 2, -4, 3, 0.1],\n",
    "     [3, 0.8, 2, -0.4, 3], \n",
    "     [0.5, 3, 2, 0.4, 1]]\n",
    "print(\"The determinant of the matrix is\",e.determinant(A))\n",
    "print(\"The inverse of the matrix is\",e.inverse(A))"
   ]
  },
  {
   "cell_type": "markdown",
   "metadata": {},
   "source": [
    "# 2. Equilibrium problem "
   ]
  },
  {
   "cell_type": "code",
   "execution_count": 9,
   "metadata": {},
   "outputs": [
    {
     "ename": "AttributeError",
     "evalue": "module 'Library.end_end' has no attribute 'LCG'",
     "output_type": "error",
     "traceback": [
      "\u001b[1;31m---------------------------------------------------------------------------\u001b[0m",
      "\u001b[1;31mAttributeError\u001b[0m                            Traceback (most recent call last)",
      "\u001b[1;32mc:\\Users\\PC\\Desktop\\P346\\end_sem.ipynb Cell 17\u001b[0m in \u001b[0;36m<cell line: 4>\u001b[1;34m()\u001b[0m\n\u001b[0;32m      <a href='vscode-notebook-cell:/c%3A/Users/PC/Desktop/P346/end_sem.ipynb#X32sZmlsZQ%3D%3D?line=4'>5</a>\u001b[0m times\u001b[39m.\u001b[39mappend(time)\n\u001b[0;32m      <a href='vscode-notebook-cell:/c%3A/Users/PC/Desktop/P346/end_sem.ipynb#X32sZmlsZQ%3D%3D?line=6'>7</a>\u001b[0m \u001b[39mfor\u001b[39;00m particle \u001b[39min\u001b[39;00m \u001b[39mrange\u001b[39m(N):\n\u001b[0;32m      <a href='vscode-notebook-cell:/c%3A/Users/PC/Desktop/P346/end_sem.ipynb#X32sZmlsZQ%3D%3D?line=7'>8</a>\u001b[0m     \u001b[39m# determine this particle is in which side\u001b[39;00m\n\u001b[1;32m----> <a href='vscode-notebook-cell:/c%3A/Users/PC/Desktop/P346/end_sem.ipynb#X32sZmlsZQ%3D%3D?line=8'>9</a>\u001b[0m     onLeft \u001b[39m=\u001b[39m e\u001b[39m.\u001b[39;49mLCG() \u001b[39m<\u001b[39m N_l\u001b[39m/\u001b[39mN\n\u001b[0;32m     <a href='vscode-notebook-cell:/c%3A/Users/PC/Desktop/P346/end_sem.ipynb#X32sZmlsZQ%3D%3D?line=10'>11</a>\u001b[0m     \u001b[39m# determine if this particle is going to travel or not\u001b[39;00m\n\u001b[0;32m     <a href='vscode-notebook-cell:/c%3A/Users/PC/Desktop/P346/end_sem.ipynb#X32sZmlsZQ%3D%3D?line=11'>12</a>\u001b[0m     go \u001b[39m=\u001b[39m e\u001b[39m.\u001b[39mLCG() \u001b[39m<\u001b[39m [\u001b[39m1\u001b[39m\u001b[39m-\u001b[39mN_l\u001b[39m/\u001b[39mN, N_l\u001b[39m/\u001b[39mN][onLeft]\n",
      "\u001b[1;31mAttributeError\u001b[0m: module 'Library.end_end' has no attribute 'LCG'"
     ]
    }
   ],
   "source": [
    "N = N_l = 5000\n",
    "\n",
    "times, left, right = [], [], []\n",
    "for time in range(30000):\n",
    "    times.append(time)\n",
    "    \n",
    "    for particle in range(N):\n",
    "        # determine this particle is in which side\n",
    "        onLeft = e.LCG() < N_l/N\n",
    "        \n",
    "        # determine if this particle is going to travel or not\n",
    "        go = e.LCG() < [1-N_l/N, N_l/N][onLeft]\n",
    "        \n",
    "        if go: N_l += [1, -1][onLeft] \n",
    "        \n",
    "        break  # only one particle moves at a time\n",
    "    \n",
    "    left.append(N_l)\n",
    "    right.append(N-N_l)\n",
    "\n",
    "# plot the results\n",
    "plt.plot(times, left, label=\"number of particles on the left\")\n",
    "plt.plot(times, right, label=\"number of particles on the right\")\n",
    "plt.xlabel(\"time\")\n",
    "plt.ylabel(\"number of particles\")\n",
    "plt.legend()"
   ]
  }
 ],
 "metadata": {
  "kernelspec": {
   "display_name": "Python 3.9.13 64-bit (microsoft store)",
   "language": "python",
   "name": "python3"
  },
  "language_info": {
   "codemirror_mode": {
    "name": "ipython",
    "version": 3
   },
   "file_extension": ".py",
   "mimetype": "text/x-python",
   "name": "python",
   "nbconvert_exporter": "python",
   "pygments_lexer": "ipython3",
   "version": "3.9.13"
  },
  "orig_nbformat": 4,
  "vscode": {
   "interpreter": {
    "hash": "8e284ee3255a07ad8bf76694974743c4c81cb57e7c969474d752d949b11d721e"
   }
  }
 },
 "nbformat": 4,
 "nbformat_minor": 2
}
