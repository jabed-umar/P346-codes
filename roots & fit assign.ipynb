{
 "cells": [
  {
   "cell_type": "code",
   "execution_count": 119,
   "metadata": {},
   "outputs": [],
   "source": [
    "# Importing Libarries\n",
    "import Library.assign4 as r\n",
    "import Library.assign3 as a3\n",
    "import math "
   ]
  },
  {
   "cell_type": "markdown",
   "metadata": {},
   "source": [
    "# 1. Solve the equation $log(x/2)$ - $sin(5x/2)$ = 0 with an accuracy of $10^{-6}$"
   ]
  },
  {
   "cell_type": "code",
   "execution_count": 120,
   "metadata": {},
   "outputs": [
    {
     "name": "stdout",
     "output_type": "stream",
     "text": [
      "a= 1.5 ,b= 2.9 \n",
      "Iterations: 2 \n",
      "\n",
      "The new interval is  (1.5, 2.9)\n"
     ]
    }
   ],
   "source": [
    "# defining function \n",
    "def ff(x):\n",
    "    return math.log(x/2)-math.sin(5*x/2)\n",
    "# bracketing the root of the function\n",
    "print(\"The new interval is \", r.Bracket(1.5,2.5,ff,1,0.4))"
   ]
  },
  {
   "cell_type": "code",
   "execution_count": 121,
   "metadata": {},
   "outputs": [
    {
     "name": "stdout",
     "output_type": "stream",
     "text": [
      "The root for the Bisection method is 2.6231405258178704\n",
      "The root for the regula-falsi method is 2.623140421962137\n",
      "Iteration     Bisection     Regula-Falsi\n",
      "      1        2.2        2.040430784736593\n",
      "      2        2.55        2.622170674593807\n",
      "      3        2.7249999999999996        2.6233741529945775\n",
      "      4        2.6374999999999997        2.623140421962137\n",
      "      5        2.59375\n",
      "      6        2.6156249999999996\n",
      "      7        2.6265624999999995\n",
      "      8        2.6210937499999996\n",
      "      9        2.6238281249999993\n",
      "      10        2.6224609374999996\n",
      "      11        2.6231445312499995\n",
      "      12        2.6228027343749996\n",
      "      13        2.6229736328124993\n",
      "      14        2.6230590820312494\n",
      "      15        2.6231018066406246\n",
      "      16        2.623123168945312\n",
      "      17        2.6231338500976555\n",
      "      18        2.6231391906738275\n",
      "      19        2.6231418609619137\n",
      "      20        2.6231405258178704\n"
     ]
    }
   ],
   "source": [
    "# root of the function using bisection method\n",
    "a = r.bisection(ff,1.5,2.9)\n",
    "print(\"The root for the Bisection method is\",a[-1])\n",
    "# root of the function using Regula Falsi method\n",
    "b = r.regula_falsi(ff,1.5,2.9)\n",
    "print(\"The root for the regula-falsi method is\", b[-1])\n",
    "# printing the root and no of iterations\n",
    "r.Table(a,b,ff,10**(-6))"
   ]
  },
  {
   "cell_type": "markdown",
   "metadata": {},
   "source": [
    "# 2. Solve the equation $−x$ − $cos(x)$ = 0 with an accuracy of $10^{-6}$"
   ]
  },
  {
   "cell_type": "code",
   "execution_count": 122,
   "metadata": {},
   "outputs": [
    {
     "name": "stdout",
     "output_type": "stream",
     "text": [
      "The root for the Bisection method is -0.7390851974487305\n",
      "The root for the Regula-Falsi method is -0.7390847824489231\n",
      "The root for the Newton-Raphson method is -0.7390851332151607\n"
     ]
    }
   ],
   "source": [
    "## Guess the interval & guess is [-1,0]\n",
    "# defining function \n",
    "def f(x):\n",
    "    return -x-math.cos(x)\n",
    "# Bisection method \n",
    "x = r.bisection(f, -1, 0, tol=1e-6, maxiter=100)\n",
    "print(\"The root for the Bisection method is\",x[-1] )\n",
    "# Regula Falsi method\n",
    "y = r.regula_falsi(f, -1, 0, tol=1e-6)\n",
    "print(\"The root for the Regula-Falsi method is\", y[-1])\n",
    "# Newton-raphson method \n",
    "print(\"The root for the Newton-Raphson method is\", r.newton_raphson(f, lambda x : -1 + math.sin(x), -0.5, tol=1e-6))\n",
    "\n"
   ]
  },
  {
   "cell_type": "markdown",
   "metadata": {},
   "source": [
    "# 3. Find all the real roots of the polynomial ' f(x) = $x^4$ − $5x^2$ + 4 ' by Laguerre’s and synthetic division methods"
   ]
  },
  {
   "cell_type": "code",
   "execution_count": 123,
   "metadata": {},
   "outputs": [
    {
     "name": "stdout",
     "output_type": "stream",
     "text": [
      "Roots of the polynomial is : [0.9999999999999999, 2.0, -1.0, -2.0]\n"
     ]
    }
   ],
   "source": [
    "#co-efficients of the polynomial\n",
    "c = [1,0,-5,0,4]\n",
    "# calling the function from the library\n",
    "r.Solve(c,0.5,6)"
   ]
  },
  {
   "cell_type": "markdown",
   "metadata": {},
   "source": [
    "# 4. Fit the data given in the file assign4fit.txt using least square method with the following functions: f(x) = $a_0$ + $a_1x$ + $a_2x^2$ + $a_3x^3$"
   ]
  },
  {
   "cell_type": "code",
   "execution_count": 124,
   "metadata": {},
   "outputs": [],
   "source": [
    "# read the data from the file assign4fit.txt \n",
    "filename = \"assign4fit.txt\"\n",
    "with open(filename) as f:\n",
    "    x, y = [], []\n",
    "    points = f.readlines()\n",
    "    for point in points:\n",
    "        xs, ys = point.split()\n",
    "        x.append(float(xs))\n",
    "        y.append(float(ys))\n",
    "\n",
    "x1 = x\n",
    "y1 = y\n",
    "# print(x1)\n",
    "# print(y1)"
   ]
  },
  {
   "cell_type": "code",
   "execution_count": 125,
   "metadata": {},
   "outputs": [
    {
     "name": "stdout",
     "output_type": "stream",
     "text": [
      "The co-efficient of the polynomial is [0.5746586674195753, 4.725861442142391, -11.1282177776444, 7.668677622910181]\n",
      "The polynomial is 0.5746586674195753 + 4.725861442142391 x -11.1282177776444 x^2 + 7.668677622910181 x^3\n"
     ]
    }
   ],
   "source": [
    "# calling the function from the library for least square fit\n",
    "print(\"The co-efficient of the polynomial is\", r.least_square_method(x1,y1,3))\n",
    "k = r.least_square_method(x1,y1,3)\n",
    "print(\"The polynomial is\", k[0],\"+\",k[1],\"x\",k[2],\"x^2 +\",k[3],\"x^3\")"
   ]
  }
 ],
 "metadata": {
  "kernelspec": {
   "display_name": "Python 3.9.13 64-bit (microsoft store)",
   "language": "python",
   "name": "python3"
  },
  "language_info": {
   "codemirror_mode": {
    "name": "ipython",
    "version": 3
   },
   "file_extension": ".py",
   "mimetype": "text/x-python",
   "name": "python",
   "nbconvert_exporter": "python",
   "pygments_lexer": "ipython3",
   "version": "3.9.13"
  },
  "orig_nbformat": 4,
  "vscode": {
   "interpreter": {
    "hash": "822f778737178fe76a6ff500c230e38a1f3004a1451c350514bba9d63e701910"
   }
  }
 },
 "nbformat": 4,
 "nbformat_minor": 2
}
