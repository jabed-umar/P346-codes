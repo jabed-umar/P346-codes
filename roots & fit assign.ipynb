{
 "cells": [
  {
   "cell_type": "code",
   "execution_count": 1,
   "metadata": {},
   "outputs": [],
   "source": [
    "# Importing Libarries\n",
    "import Library.roots as r\n",
    "import math "
   ]
  },
  {
   "cell_type": "markdown",
   "metadata": {},
   "source": [
    "# 1. Solve the equation $log(x/2)$ - $sin(5x/2)$ = 0 with an accuracy of $10^{-6}$"
   ]
  },
  {
   "cell_type": "code",
   "execution_count": 2,
   "metadata": {},
   "outputs": [
    {
     "name": "stdout",
     "output_type": "stream",
     "text": [
      "a= 1.5 ,b= 2.71 \n",
      "Iterations: 3 \n",
      "\n",
      "The new interval is  (1.5, 2.71)\n"
     ]
    }
   ],
   "source": [
    "# defining function \n",
    "def ff(x):\n",
    "    return math.log(x/2)-math.sin(5*x/2)\n",
    "# bracketing the root of the function\n",
    "print(\"The new interval is \", r.Bracket(1.5,2.5,ff,1,0.1))"
   ]
  },
  {
   "cell_type": "code",
   "execution_count": 3,
   "metadata": {},
   "outputs": [
    {
     "name": "stdout",
     "output_type": "stream",
     "text": [
      "The root for the Bisection method is 2.623140182495117\n",
      "The root for the regula-falsi method is 2.623140345628176\n",
      "The root for the Newton-Raphson method is 2.6231403354363083\n"
     ]
    }
   ],
   "source": [
    "# root of the function using bisection method\n",
    "print(\"The root for the Bisection method is\",r.bisection(ff,1.5,2.71))\n",
    "# root of the function using Regula Falsi method\n",
    "print(\"The root for the regula-falsi method is\", r.regula_falsi(ff,1.5,2.71))"
   ]
  },
  {
   "cell_type": "markdown",
   "metadata": {},
   "source": [
    "# 2. Solve the equation $−x$ − $cos(x)$ = 0 with an accuracy of $10^{-6}$"
   ]
  },
  {
   "cell_type": "code",
   "execution_count": 4,
   "metadata": {},
   "outputs": [
    {
     "name": "stdout",
     "output_type": "stream",
     "text": [
      "The root for the Bisection method is -0.7390851974487305\n",
      "The root for the Regula-Falsi method is -0.7390847824489231\n",
      "The root for the Newton-Raphson method is -0.7390851332151607\n"
     ]
    }
   ],
   "source": [
    "## Guess the interval & guess is [-1,0]\n",
    "# defining function \n",
    "def f(x):\n",
    "    return -x-math.cos(x)\n",
    "# Bisection method \n",
    "print(\"The root for the Bisection method is\", r.bisection(f, -1, 0, tol=1e-6, maxiter=100))\n",
    "# Regula Falsi method\n",
    "print(\"The root for the Regula-Falsi method is\", r.regula_falsi(f, -1, 0, tol=1e-6))\n",
    "# Newton-raphson method \n",
    "print(\"The root for the Newton-Raphson method is\", r.newton_raphson(f, lambda x : -1 + math.sin(x), -0.5, tol=1e-6))\n",
    "\n"
   ]
  },
  {
   "cell_type": "markdown",
   "metadata": {},
   "source": [
    "# 3. Find all the real roots of the polynomial ' f(x) = $x^4$ − $5x^2$ + 4 ' by Laguerre’s and synthetic division methods"
   ]
  },
  {
   "cell_type": "code",
   "execution_count": null,
   "metadata": {},
   "outputs": [],
   "source": []
  },
  {
   "cell_type": "markdown",
   "metadata": {},
   "source": [
    "# 4. Fit the data given in the file assign4fit.txt using least square method with the following functions: f(x) = $a_0$ + $a_1x$ + $a_2x^2$ + $a_3x^3$"
   ]
  },
  {
   "cell_type": "code",
   "execution_count": 5,
   "metadata": {},
   "outputs": [],
   "source": [
    "## reading the data from the txt file\n",
    "from math import log\n",
    "# read the data from the file msem_fit.txt\n",
    "filename = \"msem_fit.txt\"\n",
    "with open(filename) as f:\n",
    "    x, y = [], []\n",
    "    points = f.readlines()\n",
    "    for point in points:\n",
    "        xs, ys = point.split()\n",
    "        x.append(float(xs))\n",
    "        y.append(float(ys))\n",
    "\n",
    "x1 = [log(i) for i in x]\n",
    "y1 = [log(i) for i in y]\n",
    "x2 = x\n",
    "y2 = [log(i) for i in y]"
   ]
  }
 ],
 "metadata": {
  "kernelspec": {
   "display_name": "Python 3.9.13 64-bit (microsoft store)",
   "language": "python",
   "name": "python3"
  },
  "language_info": {
   "codemirror_mode": {
    "name": "ipython",
    "version": 3
   },
   "file_extension": ".py",
   "mimetype": "text/x-python",
   "name": "python",
   "nbconvert_exporter": "python",
   "pygments_lexer": "ipython3",
   "version": "3.9.13"
  },
  "orig_nbformat": 4,
  "vscode": {
   "interpreter": {
    "hash": "822f778737178fe76a6ff500c230e38a1f3004a1451c350514bba9d63e701910"
   }
  }
 },
 "nbformat": 4,
 "nbformat_minor": 2
}
