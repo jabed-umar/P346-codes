{
 "cells": [
  {
   "cell_type": "code",
   "execution_count": 1,
   "metadata": {},
   "outputs": [],
   "source": [
    "import Library.mid_sem as m\n",
    "import math"
   ]
  },
  {
   "cell_type": "markdown",
   "metadata": {},
   "source": [
    "# 1. Area of ellipse by random number generator "
   ]
  },
  {
   "cell_type": "code",
   "execution_count": 2,
   "metadata": {},
   "outputs": [
    {
     "name": "stdout",
     "output_type": "stream",
     "text": [
      "The area of the ellipse is 6.272\n",
      "The error in area of the ellipse is 1.118530717958599 %\n"
     ]
    }
   ],
   "source": [
    "area = m.area(1000)\n",
    "print(\"The area of the ellipse is\", area)\n",
    "print(\"The error in area of the ellipse is\", abs(area-2*math.pi)*100,\"%\")"
   ]
  },
  {
   "cell_type": "markdown",
   "metadata": {},
   "source": [
    "# 2. Solve the equation by newton-raphson methods"
   ]
  },
  {
   "cell_type": "code",
   "execution_count": 3,
   "metadata": {},
   "outputs": [
    {
     "name": "stdout",
     "output_type": "stream",
     "text": [
      "The root of the given equation is  : 4.965114231744279\n",
      "The value of the Wien's constant is :  2.899 *10^(-3) m K\n"
     ]
    }
   ],
   "source": [
    "a = m.newton_raphson(lambda x : (x-5)*math.exp(x)+5, lambda x : math.exp(x)*(x-4) , 4.5) \n",
    "print(\"The root of the given equation is  :\",a)\n",
    "print(\"The value of the Wien's constant is : \",round((6.626*3)/(1.381*4.96511),4),\"*10^(-3) m K\")"
   ]
  },
  {
   "cell_type": "markdown",
   "metadata": {},
   "source": [
    "# 3. Gauss-Seidel method for solving set of linear equations"
   ]
  },
  {
   "cell_type": "code",
   "execution_count": 4,
   "metadata": {},
   "outputs": [],
   "source": [
    "# read the data from the file msem_gs.txt\n",
    "filename = \"msem_gs.txt\"\n",
    "with open(filename) as f:\n",
    "    data = f.readlines()\n",
    "    A = [[float(i.strip()) for i in row.split(\" \") if i.strip()] for row in data[1:7]]\n",
    "    B = [[float(i.strip()) for i in row.split(\" \") if i.strip()] for row in data[9:15]]"
   ]
  },
  {
   "cell_type": "code",
   "execution_count": 5,
   "metadata": {},
   "outputs": [
    {
     "name": "stdout",
     "output_type": "stream",
     "text": [
      "Number of iterations is : 13 \n",
      "The solution matrix x is:\n",
      "\n",
      "[[1.4999998297596435], [-0.4999999999999992], [1.9999999999999998], [-2.499999914864037], [1.0000000000000004], [-0.9999999999957907]]\n"
     ]
    }
   ],
   "source": [
    "# callling the function\n",
    "m.Gauss_seidel(A, B, 6)"
   ]
  },
  {
   "cell_type": "markdown",
   "metadata": {},
   "source": [
    "# 4. Least square method for fitting a straight line\n"
   ]
  },
  {
   "cell_type": "code",
   "execution_count": 6,
   "metadata": {},
   "outputs": [],
   "source": [
    "from math import log\n",
    "# read the data from the file msem_fit.txt\n",
    "filename = \"msem_fit.txt\"\n",
    "with open(filename) as f:\n",
    "    x, y = [], []\n",
    "    points = f.readlines()\n",
    "    for point in points:\n",
    "        xs, ys = point.split()\n",
    "        x.append(float(xs))\n",
    "        y.append(float(ys))\n",
    "\n",
    "x1 = [log(i) for i in x]\n",
    "y1 = [log(i) for i in y]\n",
    "x2 = x\n",
    "y2 = [log(i) for i in y]"
   ]
  },
  {
   "cell_type": "code",
   "execution_count": 7,
   "metadata": {},
   "outputs": [
    {
     "name": "stdout",
     "output_type": "stream",
     "text": [
      "The slope of the linear fit is  -0.53740930145056\n",
      "The intercept is  21.046352159550032\n",
      "The perason coefficient is : 0.9945183457900387\n"
     ]
    }
   ],
   "source": [
    "# equation of the line is : log(y) = b*log(x) + log(a) \n",
    "slope, intercept = m.least_sqr_method(x1,y1)\n",
    "print(\"The slope of the linear fit is \", slope)\n",
    "print(\"The intercept is \", math.exp(intercept)) \n",
    "# plt.plot(x1,y1)\n",
    "print(\"The perason coefficient is :\", (m.pearson(x1,y1))**2)"
   ]
  },
  {
   "cell_type": "code",
   "execution_count": 8,
   "metadata": {},
   "outputs": [
    {
     "name": "stdout",
     "output_type": "stream",
     "text": [
      "The slope of the linear fit is  -0.05845553447818332\n",
      "The intercept is  12.212992824568264\n",
      "The perason coefficient is : 0.9017917512937712\n"
     ]
    }
   ],
   "source": [
    "# equation of the line is : log(y) = log(a) - b*x \n",
    "slope, intercept = m.least_sqr_method(x2, y2)\n",
    "print(\"The slope of the linear fit is \", slope)\n",
    "print(\"The intercept is \", math.exp(intercept))\n",
    "# plt.plot(x2, y2)\n",
    "print(\"The perason coefficient is :\", (m.pearson(x2, y2))**2)"
   ]
  },
  {
   "cell_type": "code",
   "execution_count": 9,
   "metadata": {},
   "outputs": [
    {
     "name": "stdout",
     "output_type": "stream",
     "text": [
      "The pearson co-efficient for 1st set of point is ~ 1 so first fit is good.\n"
     ]
    }
   ],
   "source": [
    "print(\"The pearson co-efficient for 1st set of point is ~ 1 so first fit is good.\")"
   ]
  }
 ],
 "metadata": {
  "kernelspec": {
   "display_name": "Python 3.9.13 64-bit (microsoft store)",
   "language": "python",
   "name": "python3"
  },
  "language_info": {
   "codemirror_mode": {
    "name": "ipython",
    "version": 3
   },
   "file_extension": ".py",
   "mimetype": "text/x-python",
   "name": "python",
   "nbconvert_exporter": "python",
   "pygments_lexer": "ipython3",
   "version": "3.9.13"
  },
  "orig_nbformat": 4,
  "vscode": {
   "interpreter": {
    "hash": "8e284ee3255a07ad8bf76694974743c4c81cb57e7c969474d752d949b11d721e"
   }
  }
 },
 "nbformat": 4,
 "nbformat_minor": 2
}
