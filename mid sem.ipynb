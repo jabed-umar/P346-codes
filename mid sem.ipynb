{
 "cells": [
  {
   "cell_type": "code",
   "execution_count": 9,
   "metadata": {},
   "outputs": [],
   "source": [
    "import Library.exam as e\n",
    "import Library.mid_sem as m\n",
    "import math\n",
    "import matplotlib.pyplot as plt"
   ]
  },
  {
   "cell_type": "markdown",
   "metadata": {},
   "source": [
    "# 1. Area of ellipse by random number generator "
   ]
  },
  {
   "cell_type": "code",
   "execution_count": 2,
   "metadata": {},
   "outputs": [
    {
     "name": "stdout",
     "output_type": "stream",
     "text": [
      "The area of the ellipse is 6.4\n"
     ]
    }
   ],
   "source": [
    "print(\"The area of the ellipse is\",m.area(10))"
   ]
  },
  {
   "cell_type": "markdown",
   "metadata": {},
   "source": [
    "# 2. Solve the equation by newton-raphson methods"
   ]
  },
  {
   "cell_type": "code",
   "execution_count": 3,
   "metadata": {},
   "outputs": [
    {
     "name": "stdout",
     "output_type": "stream",
     "text": [
      "The root of the given equation is  : 4.965114231744279\n",
      "The value of the Wien's constant is :  2.899 *10^(-3) m K\n"
     ]
    }
   ],
   "source": [
    "a = m.newton_raphson(lambda x : (x-5)*math.exp(x)+5, lambda x : math.exp(x)*(x-4) , 4.5) \n",
    "print(\"The root of the given equation is  :\",a)\n",
    "print(\"The value of the Wien's constant is : \",round((6.626*3)/(1.381*4.96511),4),\"*10^(-3) m K\")\n"
   ]
  },
  {
   "cell_type": "markdown",
   "metadata": {},
   "source": [
    "# 3. Gauss-Seidel method for solving set of linear equations"
   ]
  },
  {
   "cell_type": "code",
   "execution_count": 4,
   "metadata": {},
   "outputs": [
    {
     "name": "stdout",
     "output_type": "stream",
     "text": [
      "Number of iterations is : 13 \n",
      "The solution matrix x is:\n",
      "\n",
      "[[1.4999998297596435], [-0.4999999999999992], [1.9999999999999998], [-2.499999914864037], [1.0000000000000004], [-0.9999999999957907]]\n"
     ]
    }
   ],
   "source": [
    "A = [[-2,  0,  0,  -1,  0,  0.5],\n",
    "     [0,  4,  0.5,  0, 1,  0],\n",
    "     [ 0,  0.5,  1.5,  0,  0,  0],\n",
    "     [-1,  0,  0,  -2,  0,  1],\n",
    "     [0,  1,  0,  0 , -2.5,  0],\n",
    "     [0.5,  0,  0 , 1,  0,  -3.75],\n",
    "    ]\n",
    "b = [[-1],[0],[2.75],[2.5],[-3],[2]]\n",
    "m.Gauss_seidel(A,b,6)"
   ]
  },
  {
   "cell_type": "markdown",
   "metadata": {},
   "source": [
    "# 4. Least square method for fitting a straight line\n"
   ]
  },
  {
   "cell_type": "code",
   "execution_count": 5,
   "metadata": {},
   "outputs": [],
   "source": [
    "# defining log function\n",
    "def log(x):\n",
    "    return math.log(x)"
   ]
  },
  {
   "cell_type": "code",
   "execution_count": 6,
   "metadata": {},
   "outputs": [
    {
     "name": "stdout",
     "output_type": "stream",
     "text": [
      "The slope of the linear fit is  -0.53740930145056\n",
      "The intercept is  3.046727251028102\n",
      "The perason coefficient is : 0.9972554064982745\n"
     ]
    },
    {
     "data": {
      "image/png": "[encoded data removed]",
      "text/plain": [
       "<Figure size 432x288 with 1 Axes>"
      ]
     },
     "metadata": {
      "needs_background": "light"
     },
     "output_type": "display_data"
    }
   ],
   "source": [
    "# data for the 1st set of values for stright line fit\n",
    "# equation of the line is : log(y) = b*log(x) + log(a) \n",
    "x = [log(2.5),log(3.5),log(5),log(6),log(7.5),log(10),log(12.5),log(15),log(17.5),log(20.5)]\n",
    "y = [log(13),log(11),log(8.5),log(8.2),log(7),log(6.2),log(5.2),log(4.8),log(4.6),log(4.3)]\n",
    "m.least_sqr_method(x,y)\n",
    "plt.plot(x,y)\n",
    "print(\"The perason coefficient is :\", abs(m.pearson(x,y)))"
   ]
  },
  {
   "cell_type": "code",
   "execution_count": 7,
   "metadata": {},
   "outputs": [
    {
     "name": "stdout",
     "output_type": "stream",
     "text": [
      "The slope of the linear fit is  -0.05845553447818332\n",
      "The intercept is  2.502500370664687\n",
      "The perason coefficient is : 0.9496271643617674\n"
     ]
    },
    {
     "data": {
      "image/png": "[encoded data removed]",
      "text/plain": [
       "<Figure size 432x288 with 1 Axes>"
      ]
     },
     "metadata": {
      "needs_background": "light"
     },
     "output_type": "display_data"
    }
   ],
   "source": [
    "## data for 2nd set of values of x and y for stright line fit\n",
    "# equation of the line is : log(y) = log(a) - b*x \n",
    "z = [(2.5),(3.5),(5),(6),(7.5),(10),(12.5),(15),(17.5),(20.5)]\n",
    "y = [log(13),log(11),log(8.5),log(8.2),log(7),log(6.2),log(5.2),log(4.8),log(4.6),log(4.3)] \n",
    "m.least_sqr_method(z,y)\n",
    "plt.plot(z,y)\n",
    "print(\"The perason coefficient is :\", abs(m.pearson(z,y)))"
   ]
  },
  {
   "cell_type": "code",
   "execution_count": 8,
   "metadata": {},
   "outputs": [
    {
     "name": "stdout",
     "output_type": "stream",
     "text": [
      "The pearson co-efficient for 1st set of point is ~ 1 so first fit is good.\n"
     ]
    }
   ],
   "source": [
    "print(\"The pearson co-efficient for 1st set of point is ~ 1 so first fit is good.\")"
   ]
  }
 ],
 "metadata": {
  "kernelspec": {
   "display_name": "Python 3.9.13 64-bit (microsoft store)",
   "language": "python",
   "name": "python3"
  },
  "language_info": {
   "codemirror_mode": {
    "name": "ipython",
    "version": 3
   },
   "file_extension": ".py",
   "mimetype": "text/x-python",
   "name": "python",
   "nbconvert_exporter": "python",
   "pygments_lexer": "ipython3",
   "version": "3.9.13"
  },
  "orig_nbformat": 4,
  "vscode": {
   "interpreter": {
    "hash": "8e284ee3255a07ad8bf76694974743c4c81cb57e7c969474d752d949b11d721e"
   }
  }
 },
 "nbformat": 4,
 "nbformat_minor": 2
}
