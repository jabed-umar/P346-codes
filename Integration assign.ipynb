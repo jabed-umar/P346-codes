{
 "cells": [
  {
   "cell_type": "code",
   "execution_count": 1,
   "metadata": {},
   "outputs": [],
   "source": [
    "import math \n",
    "import Library.assign5 as i"
   ]
  },
  {
   "cell_type": "markdown",
   "metadata": {},
   "source": [
    "# 1. Integration of the function f(x) = $\\sqrt{1 + 1/x}$ from 0 to 4 by different methods"
   ]
  },
  {
   "cell_type": "code",
   "execution_count": 2,
   "metadata": {},
   "outputs": [],
   "source": [
    "# Define the given function\n",
    "def g(x):\n",
    "    return math.sqrt(1 + 1/x)"
   ]
  },
  {
   "cell_type": "markdown",
   "metadata": {},
   "source": [
    "# Integration of the function f(x) by midpoint rule"
   ]
  },
  {
   "cell_type": "code",
   "execution_count": 3,
   "metadata": {},
   "outputs": [
    {
     "name": "stdout",
     "output_type": "stream",
     "text": [
      "Integration of the given function by midppoint method is :  3.618978893939812\n",
      "Integration of the given function by midppoint method is :  3.6198800323016482\n",
      "Integration of the given function by midppoint method is :  3.62004881243588\n"
     ]
    }
   ],
   "source": [
    "print(\"Integration of the given function by midppoint method is : \", i.midpoint(g, 1, 4, 10))\n",
    "print(\"Integration of the given function by midppoint method is : \", i.midpoint(g, 1, 4, 20))\n",
    "print(\"Integration of the given function by midppoint method is : \", i.midpoint(g, 1, 4, 30))"
   ]
  },
  {
   "cell_type": "markdown",
   "metadata": {},
   "source": [
    "# Integration of the given function f(x) by trapazoidal method"
   ]
  },
  {
   "cell_type": "code",
   "execution_count": 4,
   "metadata": {},
   "outputs": [
    {
     "name": "stdout",
     "output_type": "stream",
     "text": [
      "For n = 10\n",
      "Integration of the given function by trapezoidal rule is :  3.6226083803599556\n",
      "For n = 20\n",
      "Integration of the given function by trapezoidal rule is :  3.620793637149884\n",
      "For n = 30\n",
      "Integration of the given function by trapezoidal rule is :  3.6204553882819273\n"
     ]
    }
   ],
   "source": [
    "print(\"Integration of the given function by trapezoidal rule is : \", i.trapezoidal(g, 1, 4, 10))\n",
    "print(\"Integration of the given function by trapezoidal rule is : \", i.trapezoidal(g, 1, 4, 20))\n",
    "print(\"Integration of the given function by trapezoidal rule is : \", i.trapezoidal(g, 1, 4, 30))"
   ]
  },
  {
   "cell_type": "markdown",
   "metadata": {},
   "source": [
    "# Integration of the given function f(x) by Simpson's rule"
   ]
  },
  {
   "cell_type": "code",
   "execution_count": 5,
   "metadata": {},
   "outputs": [
    {
     "name": "stdout",
     "output_type": "stream",
     "text": [
      "Integration of the given function for n =  10 is : 3.620248168\n",
      "Integration of the given function for n =  20 is : 3.620188723\n",
      "Integration of the given function for n =  30 is : 3.620185179\n"
     ]
    }
   ],
   "source": [
    "i.simpson(g, 1, 4, 10,True)\n",
    "i.simpson(g, 1, 4, 20,True)\n",
    "i.simpson(g, 1, 4, 30,True)\n"
   ]
  },
  {
   "cell_type": "markdown",
   "metadata": {},
   "source": [
    "# 2. Integration of the function h(x) = $\\sin^2{x}$ from -1 to 1 by monte carlo methods"
   ]
  },
  {
   "cell_type": "code",
   "execution_count": 6,
   "metadata": {},
   "outputs": [],
   "source": [
    "# define the given function\n",
    "def k(x):\n",
    "    return math.sin(x)**2"
   ]
  },
  {
   "cell_type": "code",
   "execution_count": 14,
   "metadata": {},
   "outputs": [
    {
     "name": "stdout",
     "output_type": "stream",
     "text": [
      "For n = 1000\n",
      "Integration of the given function for by monte carlo method is :  0.5288008189731986\n",
      "For n = 2000\n",
      "Integration of the given function by monte carlo method is :  0.5425234545518117\n",
      "For n = 3000\n",
      "Integration of the given function by monte carlo method is :  0.5416241027060849\n"
     ]
    }
   ],
   "source": [
    "print(\"Integration of the given function for by monte carlo method is : \", i.monte_carlo(k, -1, 1, 1000))\n",
    "print(\"Integration of the given function by monte carlo method is : \", i.monte_carlo(k, -1, 1, 2000))\n",
    "print(\"Integration of the given function by monte carlo method is : \", i.monte_carlo(k, -1, 1, 3000))"
   ]
  },
  {
   "cell_type": "markdown",
   "metadata": {},
   "source": [
    "# 3. Find the center of mass of the beam which is 2 meter and long beam has a linear mass density λ(x) = $x^2$ numerically, where x is measured from one its ends. "
   ]
  },
  {
   "cell_type": "code",
   "execution_count": 8,
   "metadata": {},
   "outputs": [],
   "source": [
    "# finding the total mass of the rod\n",
    "total_mass = i.midpoint(i.rho, 0, 2, 100)\n",
    "# finding the sum of (x_im_i) of the rod at the given point\n",
    "x_coordinate = i.midpoint(lambda x: x*i.rho(x), 0, 2, 100)\n",
    "# finding the center of mass\n",
    "c_o_m = x_coordinate/total_mass"
   ]
  },
  {
   "cell_type": "code",
   "execution_count": 9,
   "metadata": {},
   "outputs": [
    {
     "name": "stdout",
     "output_type": "stream",
     "text": [
      "The center of mass of the given rod  is :  1.499962499062477 m\n"
     ]
    }
   ],
   "source": [
    "print(\"The center of mass of the given rod  is : \", c_o_m, \"m\")"
   ]
  }
 ],
 "metadata": {
  "kernelspec": {
   "display_name": "Python 3.9.13 64-bit (microsoft store)",
   "language": "python",
   "name": "python3"
  },
  "language_info": {
   "codemirror_mode": {
    "name": "ipython",
    "version": 3
   },
   "file_extension": ".py",
   "mimetype": "text/x-python",
   "name": "python",
   "nbconvert_exporter": "python",
   "pygments_lexer": "ipython3",
   "version": "3.9.13"
  },
  "orig_nbformat": 4,
  "vscode": {
   "interpreter": {
    "hash": "8e284ee3255a07ad8bf76694974743c4c81cb57e7c969474d752d949b11d721e"
   }
  }
 },
 "nbformat": 4,
 "nbformat_minor": 2
}
