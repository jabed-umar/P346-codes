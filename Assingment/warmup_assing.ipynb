{
 "cells": [
  {
   "cell_type": "code",
   "execution_count": 1,
   "metadata": {},
   "outputs": [],
   "source": [
    "import Library.assign1 as lib"
   ]
  },
  {
   "cell_type": "markdown",
   "metadata": {},
   "source": [
    "# 1. Sum of first N odd numbers"
   ]
  },
  {
   "cell_type": "code",
   "execution_count": 2,
   "metadata": {},
   "outputs": [
    {
     "name": "stdout",
     "output_type": "stream",
     "text": [
      "The sum of first N odd numbers is 100\n"
     ]
    }
   ],
   "source": [
    "print(\"The sum of first N odd numbers is\",sum(lib.odd(10)))"
   ]
  },
  {
   "cell_type": "markdown",
   "metadata": {},
   "source": [
    "# Factorial of N"
   ]
  },
  {
   "cell_type": "code",
   "execution_count": 3,
   "metadata": {},
   "outputs": [
    {
     "name": "stdout",
     "output_type": "stream",
     "text": [
      "Factorial of given input is 6\n"
     ]
    }
   ],
   "source": [
    "print(f\"Factorial of given input is\", lib.fac(3))"
   ]
  },
  {
   "cell_type": "markdown",
   "metadata": {},
   "source": [
    "# 2. Calculate the sum of N terms of an AP series"
   ]
  },
  {
   "cell_type": "code",
   "execution_count": 4,
   "metadata": {},
   "outputs": [
    {
     "name": "stdout",
     "output_type": "stream",
     "text": [
      "The sum of AP series is 20.0\n"
     ]
    }
   ],
   "source": [
    "print(\"The sum of AP series is\",sum(lib.AP(5)))"
   ]
  },
  {
   "cell_type": "markdown",
   "metadata": {},
   "source": [
    "# Calculate the sum of N terms of a GP series"
   ]
  },
  {
   "cell_type": "code",
   "execution_count": 5,
   "metadata": {},
   "outputs": [
    {
     "name": "stdout",
     "output_type": "stream",
     "text": [
      "The sum of the GP series is 1.9375\n"
     ]
    }
   ],
   "source": [
    "print(\"The sum of the GP series is\",sum(lib.GP(5)))"
   ]
  },
  {
   "cell_type": "markdown",
   "metadata": {},
   "source": [
    "# Calculate the sum of N terms of a HP series"
   ]
  },
  {
   "cell_type": "code",
   "execution_count": 6,
   "metadata": {},
   "outputs": [
    {
     "name": "stdout",
     "output_type": "stream",
     "text": [
      "The sum of the HP series is 1.97468\n"
     ]
    }
   ],
   "source": [
    "print(\"The sum of the HP series is\",round(sum(lib.HP(5)),5))"
   ]
  },
  {
   "cell_type": "markdown",
   "metadata": {},
   "source": [
    "# 3. Sum of power series"
   ]
  },
  {
   "cell_type": "code",
   "execution_count": 7,
   "metadata": {},
   "outputs": [
    {
     "name": "stdout",
     "output_type": "stream",
     "text": [
      "sum of all the terms is  0.6667\n"
     ]
    },
    {
     "data": {
      "image/png": "[encoded data removed]",
      "text/plain": [
       "<Figure size 432x288 with 1 Axes>"
      ]
     },
     "metadata": {
      "needs_background": "light"
     },
     "output_type": "display_data"
    }
   ],
   "source": [
    "lib.ser(14)"
   ]
  },
  {
   "cell_type": "markdown",
   "metadata": {},
   "source": [
    "# 4. Matrix Multiplication"
   ]
  },
  {
   "cell_type": "code",
   "execution_count": 8,
   "metadata": {},
   "outputs": [
    {
     "name": "stdout",
     "output_type": "stream",
     "text": [
      "[-0.3000000000000007, -3.5, 5.2]\n",
      "[-4.5, -2.0, 4.5]\n",
      "[9.3, -0.8, -5.4]\n"
     ]
    }
   ],
   "source": [
    "# 1st :\n",
    "# declare matrix A and B \n",
    "A = [[2,-3,1.4],\n",
    "    [2.5,1,-2],\n",
    "    [0.8,0,3.1],]\n",
    "\n",
    "B = [ [0,-1,1],\n",
    "    [1.5,0.5,-2],\n",
    "    [3,0,-2], ]\n",
    "\n",
    "lib.mat1(A,B)\n"
   ]
  },
  {
   "cell_type": "code",
   "execution_count": 9,
   "metadata": {},
   "outputs": [
    {
     "name": "stdout",
     "output_type": "stream",
     "text": [
      "[[-3.5]]\n"
     ]
    }
   ],
   "source": [
    "# 2nd :\n",
    "# declare matrix C and D \n",
    "C = [[-2],[.5],[1.5]]\n",
    "D = [[1],[0],[-1]]\n",
    "\n",
    "lib.mat2(C,D) "
   ]
  },
  {
   "cell_type": "code",
   "execution_count": 10,
   "metadata": {},
   "outputs": [
    {
     "name": "stdout",
     "output_type": "stream",
     "text": [
      "[1.0]\n",
      "[-5.75]\n",
      "[-9.0]\n"
     ]
    }
   ],
   "source": [
    "# 3rd\n",
    "# declare matrix B and C \n",
    "B = [ [0,-1,1],\n",
    "    [1.5,0.5,-2],\n",
    "    [3,0,-2], ]\n",
    "\n",
    "C = [[-2],[.5],[1.5]]\n",
    "\n",
    "lib.mat3(B,C)\n",
    "    "
   ]
  },
  {
   "cell_type": "markdown",
   "metadata": {},
   "source": [
    "# 5. Define your own class / structure my Complex and calculate the sum, product and modulus of (3 − 2i) and (1 + 2i)."
   ]
  },
  {
   "cell_type": "code",
   "execution_count": 11,
   "metadata": {},
   "outputs": [
    {
     "name": "stdout",
     "output_type": "stream",
     "text": [
      "sum of complex number is 8 + 10i\n",
      "product of complex number is 17 + 27i\n",
      "modulus of complex number 3 + 4i is 5.0 \n",
      "modulus of complex number 5 + 6i is 7.810249675906654\n"
     ]
    }
   ],
   "source": [
    "# driver code \n",
    "object = lib.myComplex(3,4,5,6) \n",
    "object.Add()\n",
    "object.Multiply()\n",
    "object.Modulus()"
   ]
  }
 ],
 "metadata": {
  "kernelspec": {
   "display_name": "Python 3.9.13 64-bit (windows store)",
   "language": "python",
   "name": "python3"
  },
  "language_info": {
   "codemirror_mode": {
    "name": "ipython",
    "version": 3
   },
   "file_extension": ".py",
   "mimetype": "text/x-python",
   "name": "python",
   "nbconvert_exporter": "python",
   "pygments_lexer": "ipython3",
   "version": "3.9.13"
  },
  "orig_nbformat": 4,
  "vscode": {
   "interpreter": {
    "hash": "822f778737178fe76a6ff500c230e38a1f3004a1451c350514bba9d63e701910"
   }
  }
 },
 "nbformat": 4,
 "nbformat_minor": 2
}
